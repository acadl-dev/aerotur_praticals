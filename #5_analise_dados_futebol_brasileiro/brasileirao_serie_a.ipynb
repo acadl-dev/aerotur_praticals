{
 "cells": [
  {
   "cell_type": "code",
   "execution_count": 17,
   "metadata": {},
   "outputs": [
    {
     "data": {
      "text/html": [
       "\n",
       "        <iframe\n",
       "            width=\"100%\"\n",
       "            height=\"650\"\n",
       "            src=\"http://127.0.0.1:8050/\"\n",
       "            frameborder=\"0\"\n",
       "            allowfullscreen\n",
       "            \n",
       "        ></iframe>\n",
       "        "
      ],
      "text/plain": [
       "<IPython.lib.display.IFrame at 0x1135fafff50>"
      ]
     },
     "metadata": {},
     "output_type": "display_data"
    }
   ],
   "source": [
    "from dash import Dash, html, dcc, Input, Output\n",
    "import plotly.express as px\n",
    "import pandas as pd\n",
    "\n",
    "# Carregar os dados\n",
    "df = pd.read_excel('brSerieA.xlsx')\n",
    "\n",
    "# Calcular o número de vitórias por time\n",
    "def calcular_vitorias(df, ano=None):\n",
    "    if ano:\n",
    "        df = df[df['ano_campeonato'] == ano].copy()  # Fazendo uma cópia explícita para evitar o aviso de erro 'SettingWithCopyWarning'\n",
    "    df['vencedor'] = df.apply(lambda row: row['time_mandante'] if row['gols_mandante'] > row['gols_visitante'] \n",
    "                              else row['time_visitante'] if row['gols_visitante'] > row['gols_mandante'] \n",
    "                              else 'Empate', axis=1)\n",
    "    df_vitorias = df[df['vencedor'] != 'Empate'].groupby('vencedor').size().reset_index(name='vitorias')\n",
    "    return df_vitorias\n",
    "\n",
    "\n",
    "# Criar o app\n",
    "app = Dash(__name__)\n",
    "\n",
    "anos_disponiveis = sorted(df['ano_campeonato'].unique()) \n",
    "\n",
    "app.layout = html.Div(children=[\n",
    "    html.H1(children='Campeonato Brasileiro Série A'),\n",
    "    \n",
    "    # Dropdown para selecionar o ano\n",
    "    html.Label('Selecione o ano:'),\n",
    "    dcc.Dropdown(\n",
    "        id='ano-dropdown',\n",
    "        options=[{'label': str(ano), 'value': ano} for ano in anos_disponiveis],\n",
    "        value=anos_disponiveis[0],  # Define o primeiro ano disponível como padrão\n",
    "        clearable=False\n",
    "    ),\n",
    "    \n",
    "    # Dropdown para selecionar a questão\n",
    "    html.Label('Selecione a questão:'),\n",
    "    dcc.Dropdown(\n",
    "        id='quest-dropdown',  # ID corrigido\n",
    "        options=[\n",
    "            {'label': 'Qual time mais venceu?', 'value': 'mais_vitorias'},\n",
    "            {'label': 'Qual time foi o melhor e pior visitante?', 'value': 'melhor_pior_visitante'},\n",
    "            {'label': 'Qual time foi o melhor e pior mandante?', 'value': 'melhor_pior_mandante'}\n",
    "        ],\n",
    "        value='mais_vitorias',  # Valor padrão corrigido\n",
    "        clearable=False\n",
    "    ),\n",
    "\n",
    "    # Gráfico de vitórias\n",
    "    dcc.Graph(id='grafico-vitorias')\n",
    "])\n",
    "\n",
    "\n",
    "@app.callback(\n",
    "    Output('grafico-vitorias', 'figure'),\n",
    "    Input('ano-dropdown', 'value')\n",
    ")\n",
    "def atualizar_grafico(ano):\n",
    "    df_vitorias = calcular_vitorias(df, ano)\n",
    "    fig = px.bar(df_vitorias, x='vencedor', y='vitorias',\n",
    "                 color='vencedor',\n",
    "                 title=f'Número de Vitórias por Time em {ano}')\n",
    "    return fig\n",
    "\n",
    "if __name__ == '__main__':\n",
    "    app.run(debug=True)\n"
   ]
  }
 ],
 "metadata": {
  "kernelspec": {
   "display_name": "Python 3",
   "language": "python",
   "name": "python3"
  },
  "language_info": {
   "codemirror_mode": {
    "name": "ipython",
    "version": 3
   },
   "file_extension": ".py",
   "mimetype": "text/x-python",
   "name": "python",
   "nbconvert_exporter": "python",
   "pygments_lexer": "ipython3",
   "version": "3.12.6"
  }
 },
 "nbformat": 4,
 "nbformat_minor": 2
}
